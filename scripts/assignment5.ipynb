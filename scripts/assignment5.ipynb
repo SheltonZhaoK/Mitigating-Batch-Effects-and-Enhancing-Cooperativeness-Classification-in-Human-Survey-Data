{
 "cells": [
  {
   "cell_type": "code",
   "execution_count": 1,
   "id": "edc33454-292e-4314-afa8-edd36d40e83a",
   "metadata": {},
   "outputs": [],
   "source": [
    "# -----------------------------------------------------------\n",
    "# This script serves as the main function to clean, process, and classify datasets.\n",
    "#\n",
    "# Author: Konghao Zhao\n",
    "# Created: 2023-10-05\n",
    "# Modified: 2023-11-15\n",
    "# \n",
    "# -----------------------------------------------------------"
   ]
  },
  {
   "cell_type": "code",
   "execution_count": 1,
   "id": "8ff06c26-0483-479c-b092-50cfc9ebaec1",
   "metadata": {},
   "outputs": [
    {
     "ename": "ImportError",
     "evalue": "cannot import name 'NaColumnsHandler' from 'data' (/Users/konghaozhao/Documents/wfu/courses/Senior/Fall/dataMining/assignment5/scripts/data.py)",
     "output_type": "error",
     "traceback": [
      "\u001b[0;31m---------------------------------------------------------------------------\u001b[0m",
      "\u001b[0;31mImportError\u001b[0m                               Traceback (most recent call last)",
      "\u001b[1;32m/Users/konghaozhao/Documents/wfu/courses/Senior/Fall/dataMining/assignment5/scripts/assignment5.ipynb Cell 2\u001b[0m in \u001b[0;36m<cell line: 7>\u001b[0;34m()\u001b[0m\n\u001b[1;32m      <a href='vscode-notebook-cell:/Users/konghaozhao/Documents/wfu/courses/Senior/Fall/dataMining/assignment5/scripts/assignment5.ipynb#W1sZmlsZQ%3D%3D?line=2'>3</a>\u001b[0m \u001b[39mimport\u001b[39;00m \u001b[39murllib\u001b[39;00m\u001b[39m.\u001b[39;00m\u001b[39mrequest\u001b[39;00m \u001b[39mas\u001b[39;00m \u001b[39mur\u001b[39;00m\n\u001b[1;32m      <a href='vscode-notebook-cell:/Users/konghaozhao/Documents/wfu/courses/Senior/Fall/dataMining/assignment5/scripts/assignment5.ipynb#W1sZmlsZQ%3D%3D?line=4'>5</a>\u001b[0m \u001b[39mfrom\u001b[39;00m \u001b[39msklearn\u001b[39;00m\u001b[39m.\u001b[39;00m\u001b[39mpipeline\u001b[39;00m \u001b[39mimport\u001b[39;00m Pipeline\n\u001b[0;32m----> <a href='vscode-notebook-cell:/Users/konghaozhao/Documents/wfu/courses/Senior/Fall/dataMining/assignment5/scripts/assignment5.ipynb#W1sZmlsZQ%3D%3D?line=6'>7</a>\u001b[0m \u001b[39mfrom\u001b[39;00m \u001b[39mdata\u001b[39;00m \u001b[39mimport\u001b[39;00m NaColumnsHandler, NaHandler, duplicateHandler, rowOutlierChecker, correlatedFeatureRemover, normalizer, variableFeaturesSelector, pca, audit_data\n",
      "\u001b[0;31mImportError\u001b[0m: cannot import name 'NaColumnsHandler' from 'data' (/Users/konghaozhao/Documents/wfu/courses/Senior/Fall/dataMining/assignment5/scripts/data.py)"
     ]
    }
   ],
   "source": [
    "import warnings, os\n",
    "import pandas as pd\n",
    "import urllib.request as ur\n",
    "\n",
    "from sklearn.pipeline import Pipeline\n",
    "\n",
    "from dataObject import NaColumnsHandler, NaHandler, duplicateHandler, rowOutlierChecker, correlatedFeatureRemover, normalizer, variableFeaturesSelector, pca, audit_data\n"
   ]
  },
  {
   "cell_type": "code",
   "execution_count": null,
   "id": "e60d96ce",
   "metadata": {},
   "outputs": [
    {
     "name": "stdout",
     "output_type": "stream",
     "text": [
      "****************************** Data Auditing ******************************\n",
      "Find 530 columns with more than 51.0% N/A\n",
      "Find 3661 rows with NaN\n",
      "Find 12 duplicated columns\n",
      "****************************** Data Cleaning ******************************\n",
      "---------- Handle Large NaN columns ----------\n",
      "Drop 530 columns that have execessive N/As\n",
      "Dataset shape: (3661, 257)\n",
      "---------- Handle NaN values ----------\n",
      "Drop 1186 rows with N/As\n",
      "Dataset shape: (2475, 257)\n",
      "---------- Handle duplicates ----------\n"
     ]
    },
    {
     "ename": "KeyError",
     "evalue": "\"['RECWAV2', 'PANEL120', 'INCF', 'W3CD1', 'W3VI1FLUPA', 'W3CD10W3', 'W3SEX', 'W3VO2004', 'W3VBUKE', 'W3CHVOTE'] not found in axis\"",
     "output_type": "error",
     "traceback": [
      "\u001b[0;31m---------------------------------------------------------------------------\u001b[0m",
      "\u001b[0;31mKeyError\u001b[0m                                  Traceback (most recent call last)",
      "\u001b[1;32m/Users/konghaozhao/Documents/wfu/courses/Senior/Fall/dataMining/assignment5/scripts/assignment5.ipynb Cell 3\u001b[0m in \u001b[0;36m<cell line: 16>\u001b[0;34m()\u001b[0m\n\u001b[1;32m      <a href='vscode-notebook-cell:/Users/konghaozhao/Documents/wfu/courses/Senior/Fall/dataMining/assignment5/scripts/assignment5.ipynb#X22sZmlsZQ%3D%3D?line=8'>9</a>\u001b[0m \u001b[39mprint\u001b[39m(\u001b[39mf\u001b[39m\u001b[39m\"\u001b[39m\u001b[39m{\u001b[39;00m\u001b[39m'\u001b[39m\u001b[39m*\u001b[39m\u001b[39m'\u001b[39m\u001b[39m*\u001b[39m\u001b[39m30\u001b[39m\u001b[39m}\u001b[39;00m\u001b[39m Data Cleaning \u001b[39m\u001b[39m{\u001b[39;00m\u001b[39m'\u001b[39m\u001b[39m*\u001b[39m\u001b[39m'\u001b[39m\u001b[39m*\u001b[39m\u001b[39m30\u001b[39m\u001b[39m}\u001b[39;00m\u001b[39m\"\u001b[39m)\n\u001b[1;32m     <a href='vscode-notebook-cell:/Users/konghaozhao/Documents/wfu/courses/Senior/Fall/dataMining/assignment5/scripts/assignment5.ipynb#X22sZmlsZQ%3D%3D?line=9'>10</a>\u001b[0m dataCleaner \u001b[39m=\u001b[39m Pipeline([\n\u001b[1;32m     <a href='vscode-notebook-cell:/Users/konghaozhao/Documents/wfu/courses/Senior/Fall/dataMining/assignment5/scripts/assignment5.ipynb#X22sZmlsZQ%3D%3D?line=10'>11</a>\u001b[0m                         (\u001b[39m\"\u001b[39m\u001b[39mNaColumnsHandler\u001b[39m\u001b[39m\"\u001b[39m, NaColumnsHandler(columnNames\u001b[39m=\u001b[39mreport[\u001b[39m\"\u001b[39m\u001b[39mLarge_NAs_columns\u001b[39m\u001b[39m\"\u001b[39m])),\n\u001b[1;32m     <a href='vscode-notebook-cell:/Users/konghaozhao/Documents/wfu/courses/Senior/Fall/dataMining/assignment5/scripts/assignment5.ipynb#X22sZmlsZQ%3D%3D?line=11'>12</a>\u001b[0m                         (\u001b[39m\"\u001b[39m\u001b[39mNaHandler\u001b[39m\u001b[39m\"\u001b[39m, NaHandler(indices\u001b[39m=\u001b[39mreport[\u001b[39m\"\u001b[39m\u001b[39mNaN\u001b[39m\u001b[39m\"\u001b[39m], evaluation\u001b[39m=\u001b[39m\u001b[39mFalse\u001b[39;00m)),\n\u001b[1;32m     <a href='vscode-notebook-cell:/Users/konghaozhao/Documents/wfu/courses/Senior/Fall/dataMining/assignment5/scripts/assignment5.ipynb#X22sZmlsZQ%3D%3D?line=12'>13</a>\u001b[0m                         (\u001b[39m\"\u001b[39m\u001b[39mlogNormalizer\u001b[39m\u001b[39m\"\u001b[39m, duplicateHandler(indices\u001b[39m=\u001b[39mreport[\u001b[39m\"\u001b[39m\u001b[39mduplicate\u001b[39m\u001b[39m\"\u001b[39m], evaluation\u001b[39m=\u001b[39m\u001b[39mFalse\u001b[39;00m)),\n\u001b[1;32m     <a href='vscode-notebook-cell:/Users/konghaozhao/Documents/wfu/courses/Senior/Fall/dataMining/assignment5/scripts/assignment5.ipynb#X22sZmlsZQ%3D%3D?line=13'>14</a>\u001b[0m                         (\u001b[39m\"\u001b[39m\u001b[39mrowOutlierChecker\u001b[39m\u001b[39m\"\u001b[39m, rowOutlierChecker(stdScale\u001b[39m=\u001b[39m\u001b[39m3\u001b[39m, evaluation\u001b[39m=\u001b[39m\u001b[39mFalse\u001b[39;00m)),\n\u001b[1;32m     <a href='vscode-notebook-cell:/Users/konghaozhao/Documents/wfu/courses/Senior/Fall/dataMining/assignment5/scripts/assignment5.ipynb#X22sZmlsZQ%3D%3D?line=14'>15</a>\u001b[0m                         ])\n\u001b[0;32m---> <a href='vscode-notebook-cell:/Users/konghaozhao/Documents/wfu/courses/Senior/Fall/dataMining/assignment5/scripts/assignment5.ipynb#X22sZmlsZQ%3D%3D?line=15'>16</a>\u001b[0m data \u001b[39m=\u001b[39m dataCleaner\u001b[39m.\u001b[39;49mfit_transform(data)\n\u001b[1;32m     <a href='vscode-notebook-cell:/Users/konghaozhao/Documents/wfu/courses/Senior/Fall/dataMining/assignment5/scripts/assignment5.ipynb#X22sZmlsZQ%3D%3D?line=17'>18</a>\u001b[0m target \u001b[39m=\u001b[39m data[[label]]\n\u001b[1;32m     <a href='vscode-notebook-cell:/Users/konghaozhao/Documents/wfu/courses/Senior/Fall/dataMining/assignment5/scripts/assignment5.ipynb#X22sZmlsZQ%3D%3D?line=18'>19</a>\u001b[0m data \u001b[39m=\u001b[39m data\u001b[39m.\u001b[39mdrop(columns\u001b[39m=\u001b[39m[label])\n",
      "File \u001b[0;32m~/opt/anaconda3/lib/python3.9/site-packages/sklearn/pipeline.py:426\u001b[0m, in \u001b[0;36mPipeline.fit_transform\u001b[0;34m(self, X, y, **fit_params)\u001b[0m\n\u001b[1;32m    399\u001b[0m \u001b[39m\"\"\"Fit the model and transform with the final estimator.\u001b[39;00m\n\u001b[1;32m    400\u001b[0m \n\u001b[1;32m    401\u001b[0m \u001b[39mFits all the transformers one after the other and transform the\u001b[39;00m\n\u001b[0;32m   (...)\u001b[0m\n\u001b[1;32m    423\u001b[0m \u001b[39m    Transformed samples.\u001b[39;00m\n\u001b[1;32m    424\u001b[0m \u001b[39m\"\"\"\u001b[39;00m\n\u001b[1;32m    425\u001b[0m fit_params_steps \u001b[39m=\u001b[39m \u001b[39mself\u001b[39m\u001b[39m.\u001b[39m_check_fit_params(\u001b[39m*\u001b[39m\u001b[39m*\u001b[39mfit_params)\n\u001b[0;32m--> 426\u001b[0m Xt \u001b[39m=\u001b[39m \u001b[39mself\u001b[39;49m\u001b[39m.\u001b[39;49m_fit(X, y, \u001b[39m*\u001b[39;49m\u001b[39m*\u001b[39;49mfit_params_steps)\n\u001b[1;32m    428\u001b[0m last_step \u001b[39m=\u001b[39m \u001b[39mself\u001b[39m\u001b[39m.\u001b[39m_final_estimator\n\u001b[1;32m    429\u001b[0m \u001b[39mwith\u001b[39;00m _print_elapsed_time(\u001b[39m\"\u001b[39m\u001b[39mPipeline\u001b[39m\u001b[39m\"\u001b[39m, \u001b[39mself\u001b[39m\u001b[39m.\u001b[39m_log_message(\u001b[39mlen\u001b[39m(\u001b[39mself\u001b[39m\u001b[39m.\u001b[39msteps) \u001b[39m-\u001b[39m \u001b[39m1\u001b[39m)):\n",
      "File \u001b[0;32m~/opt/anaconda3/lib/python3.9/site-packages/sklearn/pipeline.py:348\u001b[0m, in \u001b[0;36mPipeline._fit\u001b[0;34m(self, X, y, **fit_params_steps)\u001b[0m\n\u001b[1;32m    346\u001b[0m     cloned_transformer \u001b[39m=\u001b[39m clone(transformer)\n\u001b[1;32m    347\u001b[0m \u001b[39m# Fit or load from cache the current transformer\u001b[39;00m\n\u001b[0;32m--> 348\u001b[0m X, fitted_transformer \u001b[39m=\u001b[39m fit_transform_one_cached(\n\u001b[1;32m    349\u001b[0m     cloned_transformer,\n\u001b[1;32m    350\u001b[0m     X,\n\u001b[1;32m    351\u001b[0m     y,\n\u001b[1;32m    352\u001b[0m     \u001b[39mNone\u001b[39;49;00m,\n\u001b[1;32m    353\u001b[0m     message_clsname\u001b[39m=\u001b[39;49m\u001b[39m\"\u001b[39;49m\u001b[39mPipeline\u001b[39;49m\u001b[39m\"\u001b[39;49m,\n\u001b[1;32m    354\u001b[0m     message\u001b[39m=\u001b[39;49m\u001b[39mself\u001b[39;49m\u001b[39m.\u001b[39;49m_log_message(step_idx),\n\u001b[1;32m    355\u001b[0m     \u001b[39m*\u001b[39;49m\u001b[39m*\u001b[39;49mfit_params_steps[name],\n\u001b[1;32m    356\u001b[0m )\n\u001b[1;32m    357\u001b[0m \u001b[39m# Replace the transformer of the step with the fitted\u001b[39;00m\n\u001b[1;32m    358\u001b[0m \u001b[39m# transformer. This is necessary when loading the transformer\u001b[39;00m\n\u001b[1;32m    359\u001b[0m \u001b[39m# from the cache.\u001b[39;00m\n\u001b[1;32m    360\u001b[0m \u001b[39mself\u001b[39m\u001b[39m.\u001b[39msteps[step_idx] \u001b[39m=\u001b[39m (name, fitted_transformer)\n",
      "File \u001b[0;32m~/opt/anaconda3/lib/python3.9/site-packages/joblib/memory.py:349\u001b[0m, in \u001b[0;36mNotMemorizedFunc.__call__\u001b[0;34m(self, *args, **kwargs)\u001b[0m\n\u001b[1;32m    348\u001b[0m \u001b[39mdef\u001b[39;00m \u001b[39m__call__\u001b[39m(\u001b[39mself\u001b[39m, \u001b[39m*\u001b[39margs, \u001b[39m*\u001b[39m\u001b[39m*\u001b[39mkwargs):\n\u001b[0;32m--> 349\u001b[0m     \u001b[39mreturn\u001b[39;00m \u001b[39mself\u001b[39;49m\u001b[39m.\u001b[39;49mfunc(\u001b[39m*\u001b[39;49margs, \u001b[39m*\u001b[39;49m\u001b[39m*\u001b[39;49mkwargs)\n",
      "File \u001b[0;32m~/opt/anaconda3/lib/python3.9/site-packages/sklearn/pipeline.py:893\u001b[0m, in \u001b[0;36m_fit_transform_one\u001b[0;34m(transformer, X, y, weight, message_clsname, message, **fit_params)\u001b[0m\n\u001b[1;32m    891\u001b[0m \u001b[39mwith\u001b[39;00m _print_elapsed_time(message_clsname, message):\n\u001b[1;32m    892\u001b[0m     \u001b[39mif\u001b[39;00m \u001b[39mhasattr\u001b[39m(transformer, \u001b[39m\"\u001b[39m\u001b[39mfit_transform\u001b[39m\u001b[39m\"\u001b[39m):\n\u001b[0;32m--> 893\u001b[0m         res \u001b[39m=\u001b[39m transformer\u001b[39m.\u001b[39;49mfit_transform(X, y, \u001b[39m*\u001b[39;49m\u001b[39m*\u001b[39;49mfit_params)\n\u001b[1;32m    894\u001b[0m     \u001b[39melse\u001b[39;00m:\n\u001b[1;32m    895\u001b[0m         res \u001b[39m=\u001b[39m transformer\u001b[39m.\u001b[39mfit(X, y, \u001b[39m*\u001b[39m\u001b[39m*\u001b[39mfit_params)\u001b[39m.\u001b[39mtransform(X)\n",
      "File \u001b[0;32m~/opt/anaconda3/lib/python3.9/site-packages/sklearn/base.py:852\u001b[0m, in \u001b[0;36mTransformerMixin.fit_transform\u001b[0;34m(self, X, y, **fit_params)\u001b[0m\n\u001b[1;32m    848\u001b[0m \u001b[39m# non-optimized default implementation; override when a better\u001b[39;00m\n\u001b[1;32m    849\u001b[0m \u001b[39m# method is possible for a given clustering algorithm\u001b[39;00m\n\u001b[1;32m    850\u001b[0m \u001b[39mif\u001b[39;00m y \u001b[39mis\u001b[39;00m \u001b[39mNone\u001b[39;00m:\n\u001b[1;32m    851\u001b[0m     \u001b[39m# fit method of arity 1 (unsupervised transformation)\u001b[39;00m\n\u001b[0;32m--> 852\u001b[0m     \u001b[39mreturn\u001b[39;00m \u001b[39mself\u001b[39;49m\u001b[39m.\u001b[39;49mfit(X, \u001b[39m*\u001b[39;49m\u001b[39m*\u001b[39;49mfit_params)\u001b[39m.\u001b[39;49mtransform(X)\n\u001b[1;32m    853\u001b[0m \u001b[39melse\u001b[39;00m:\n\u001b[1;32m    854\u001b[0m     \u001b[39m# fit method of arity 2 (supervised transformation)\u001b[39;00m\n\u001b[1;32m    855\u001b[0m     \u001b[39mreturn\u001b[39;00m \u001b[39mself\u001b[39m\u001b[39m.\u001b[39mfit(X, y, \u001b[39m*\u001b[39m\u001b[39m*\u001b[39mfit_params)\u001b[39m.\u001b[39mtransform(X)\n",
      "File \u001b[0;32m~/Documents/wfu/courses/Senior/Fall/dataMining/assignment5/scripts/data.py:174\u001b[0m, in \u001b[0;36mduplicateHandler.transform\u001b[0;34m(self, X, y)\u001b[0m\n\u001b[1;32m    172\u001b[0m         \u001b[39mprint\u001b[39m(\u001b[39mf\u001b[39m\u001b[39m\"\u001b[39m\u001b[39mFind \u001b[39m\u001b[39m{\u001b[39;00m\u001b[39mlen\u001b[39m(\u001b[39mself\u001b[39m\u001b[39m.\u001b[39mcolumn_indices)\u001b[39m}\u001b[39;00m\u001b[39m duplicated samples, not removed in evaluation\u001b[39m\u001b[39m\"\u001b[39m)\n\u001b[1;32m    173\u001b[0m     \u001b[39melse\u001b[39;00m:\n\u001b[0;32m--> 174\u001b[0m         X \u001b[39m=\u001b[39m X\u001b[39m.\u001b[39;49mdrop(columns\u001b[39m=\u001b[39;49m\u001b[39mself\u001b[39;49m\u001b[39m.\u001b[39;49mcolumn_indices)\n\u001b[1;32m    175\u001b[0m \u001b[39mprint\u001b[39m(\u001b[39mf\u001b[39m\u001b[39m\"\u001b[39m\u001b[39mDataset shape: \u001b[39m\u001b[39m{\u001b[39;00mX\u001b[39m.\u001b[39mshape\u001b[39m}\u001b[39;00m\u001b[39m\"\u001b[39m)\n\u001b[1;32m    176\u001b[0m \u001b[39mreturn\u001b[39;00m X\n",
      "File \u001b[0;32m~/opt/anaconda3/lib/python3.9/site-packages/pandas/util/_decorators.py:311\u001b[0m, in \u001b[0;36mdeprecate_nonkeyword_arguments.<locals>.decorate.<locals>.wrapper\u001b[0;34m(*args, **kwargs)\u001b[0m\n\u001b[1;32m    305\u001b[0m \u001b[39mif\u001b[39;00m \u001b[39mlen\u001b[39m(args) \u001b[39m>\u001b[39m num_allow_args:\n\u001b[1;32m    306\u001b[0m     warnings\u001b[39m.\u001b[39mwarn(\n\u001b[1;32m    307\u001b[0m         msg\u001b[39m.\u001b[39mformat(arguments\u001b[39m=\u001b[39marguments),\n\u001b[1;32m    308\u001b[0m         \u001b[39mFutureWarning\u001b[39;00m,\n\u001b[1;32m    309\u001b[0m         stacklevel\u001b[39m=\u001b[39mstacklevel,\n\u001b[1;32m    310\u001b[0m     )\n\u001b[0;32m--> 311\u001b[0m \u001b[39mreturn\u001b[39;00m func(\u001b[39m*\u001b[39;49margs, \u001b[39m*\u001b[39;49m\u001b[39m*\u001b[39;49mkwargs)\n",
      "File \u001b[0;32m~/opt/anaconda3/lib/python3.9/site-packages/pandas/core/frame.py:4954\u001b[0m, in \u001b[0;36mDataFrame.drop\u001b[0;34m(self, labels, axis, index, columns, level, inplace, errors)\u001b[0m\n\u001b[1;32m   4806\u001b[0m \u001b[39m@deprecate_nonkeyword_arguments\u001b[39m(version\u001b[39m=\u001b[39m\u001b[39mNone\u001b[39;00m, allowed_args\u001b[39m=\u001b[39m[\u001b[39m\"\u001b[39m\u001b[39mself\u001b[39m\u001b[39m\"\u001b[39m, \u001b[39m\"\u001b[39m\u001b[39mlabels\u001b[39m\u001b[39m\"\u001b[39m])\n\u001b[1;32m   4807\u001b[0m \u001b[39mdef\u001b[39;00m \u001b[39mdrop\u001b[39m(\n\u001b[1;32m   4808\u001b[0m     \u001b[39mself\u001b[39m,\n\u001b[0;32m   (...)\u001b[0m\n\u001b[1;32m   4815\u001b[0m     errors: \u001b[39mstr\u001b[39m \u001b[39m=\u001b[39m \u001b[39m\"\u001b[39m\u001b[39mraise\u001b[39m\u001b[39m\"\u001b[39m,\n\u001b[1;32m   4816\u001b[0m ):\n\u001b[1;32m   4817\u001b[0m     \u001b[39m\"\"\"\u001b[39;00m\n\u001b[1;32m   4818\u001b[0m \u001b[39m    Drop specified labels from rows or columns.\u001b[39;00m\n\u001b[1;32m   4819\u001b[0m \n\u001b[0;32m   (...)\u001b[0m\n\u001b[1;32m   4952\u001b[0m \u001b[39m            weight  1.0     0.8\u001b[39;00m\n\u001b[1;32m   4953\u001b[0m \u001b[39m    \"\"\"\u001b[39;00m\n\u001b[0;32m-> 4954\u001b[0m     \u001b[39mreturn\u001b[39;00m \u001b[39msuper\u001b[39;49m()\u001b[39m.\u001b[39;49mdrop(\n\u001b[1;32m   4955\u001b[0m         labels\u001b[39m=\u001b[39;49mlabels,\n\u001b[1;32m   4956\u001b[0m         axis\u001b[39m=\u001b[39;49maxis,\n\u001b[1;32m   4957\u001b[0m         index\u001b[39m=\u001b[39;49mindex,\n\u001b[1;32m   4958\u001b[0m         columns\u001b[39m=\u001b[39;49mcolumns,\n\u001b[1;32m   4959\u001b[0m         level\u001b[39m=\u001b[39;49mlevel,\n\u001b[1;32m   4960\u001b[0m         inplace\u001b[39m=\u001b[39;49minplace,\n\u001b[1;32m   4961\u001b[0m         errors\u001b[39m=\u001b[39;49merrors,\n\u001b[1;32m   4962\u001b[0m     )\n",
      "File \u001b[0;32m~/opt/anaconda3/lib/python3.9/site-packages/pandas/core/generic.py:4267\u001b[0m, in \u001b[0;36mNDFrame.drop\u001b[0;34m(self, labels, axis, index, columns, level, inplace, errors)\u001b[0m\n\u001b[1;32m   4265\u001b[0m \u001b[39mfor\u001b[39;00m axis, labels \u001b[39min\u001b[39;00m axes\u001b[39m.\u001b[39mitems():\n\u001b[1;32m   4266\u001b[0m     \u001b[39mif\u001b[39;00m labels \u001b[39mis\u001b[39;00m \u001b[39mnot\u001b[39;00m \u001b[39mNone\u001b[39;00m:\n\u001b[0;32m-> 4267\u001b[0m         obj \u001b[39m=\u001b[39m obj\u001b[39m.\u001b[39;49m_drop_axis(labels, axis, level\u001b[39m=\u001b[39;49mlevel, errors\u001b[39m=\u001b[39;49merrors)\n\u001b[1;32m   4269\u001b[0m \u001b[39mif\u001b[39;00m inplace:\n\u001b[1;32m   4270\u001b[0m     \u001b[39mself\u001b[39m\u001b[39m.\u001b[39m_update_inplace(obj)\n",
      "File \u001b[0;32m~/opt/anaconda3/lib/python3.9/site-packages/pandas/core/generic.py:4311\u001b[0m, in \u001b[0;36mNDFrame._drop_axis\u001b[0;34m(self, labels, axis, level, errors, consolidate, only_slice)\u001b[0m\n\u001b[1;32m   4309\u001b[0m         new_axis \u001b[39m=\u001b[39m axis\u001b[39m.\u001b[39mdrop(labels, level\u001b[39m=\u001b[39mlevel, errors\u001b[39m=\u001b[39merrors)\n\u001b[1;32m   4310\u001b[0m     \u001b[39melse\u001b[39;00m:\n\u001b[0;32m-> 4311\u001b[0m         new_axis \u001b[39m=\u001b[39m axis\u001b[39m.\u001b[39;49mdrop(labels, errors\u001b[39m=\u001b[39;49merrors)\n\u001b[1;32m   4312\u001b[0m     indexer \u001b[39m=\u001b[39m axis\u001b[39m.\u001b[39mget_indexer(new_axis)\n\u001b[1;32m   4314\u001b[0m \u001b[39m# Case for non-unique axis\u001b[39;00m\n\u001b[1;32m   4315\u001b[0m \u001b[39melse\u001b[39;00m:\n",
      "File \u001b[0;32m~/opt/anaconda3/lib/python3.9/site-packages/pandas/core/indexes/base.py:6644\u001b[0m, in \u001b[0;36mIndex.drop\u001b[0;34m(self, labels, errors)\u001b[0m\n\u001b[1;32m   6642\u001b[0m \u001b[39mif\u001b[39;00m mask\u001b[39m.\u001b[39many():\n\u001b[1;32m   6643\u001b[0m     \u001b[39mif\u001b[39;00m errors \u001b[39m!=\u001b[39m \u001b[39m\"\u001b[39m\u001b[39mignore\u001b[39m\u001b[39m\"\u001b[39m:\n\u001b[0;32m-> 6644\u001b[0m         \u001b[39mraise\u001b[39;00m \u001b[39mKeyError\u001b[39;00m(\u001b[39mf\u001b[39m\u001b[39m\"\u001b[39m\u001b[39m{\u001b[39;00m\u001b[39mlist\u001b[39m(labels[mask])\u001b[39m}\u001b[39;00m\u001b[39m not found in axis\u001b[39m\u001b[39m\"\u001b[39m)\n\u001b[1;32m   6645\u001b[0m     indexer \u001b[39m=\u001b[39m indexer[\u001b[39m~\u001b[39mmask]\n\u001b[1;32m   6646\u001b[0m \u001b[39mreturn\u001b[39;00m \u001b[39mself\u001b[39m\u001b[39m.\u001b[39mdelete(indexer)\n",
      "\u001b[0;31mKeyError\u001b[0m: \"['RECWAV2', 'PANEL120', 'INCF', 'W3CD1', 'W3VI1FLUPA', 'W3CD10W3', 'W3SEX', 'W3VO2004', 'W3VBUKE', 'W3CHVOTE'] not found in axis\""
     ]
    }
   ],
   "source": [
    "################################### read data ###################################\n",
    "label = \"W2CL1R\"\n",
    "data = pd.read_csv(\"../data/ICPSR_36371/DS0001/36371-0001-Data.tsv\", sep=\"\\t\", na_values=[\" \"])\n",
    "\n",
    "#################################### data auditing ###################################\n",
    "report = audit_data(data, duplicateRow = True, duplicateCol = True, NaN = True, column_NaN = True,  maxNA = 0.51)\n",
    "\n",
    "#################################### data cleaning ###################################\n",
    "print(f\"{'*'*30} Data Cleaning {'*'*30}\")\n",
    "dataCleaner = Pipeline([\n",
    "                        (\"NaColumnsHandler\", NaColumnsHandler(columnNames=report[\"Large_NAs_columns\"])),\n",
    "                        (\"NaHandler\", NaHandler(indices=report[\"NaN\"], evaluation=False)),\n",
    "                        (\"logNormalizer\", duplicateHandler(indices=report[\"duplicate\"], evaluation=False)),\n",
    "                        (\"rowOutlierChecker\", rowOutlierChecker(stdScale=3, evaluation=False)),\n",
    "                        ])\n",
    "data = dataCleaner.fit_transform(data)\n",
    "\n",
    "target = data[[label]]\n",
    "data = data.drop(columns=[label])\n",
    "\n",
    "#################################### features processing ###################################\n",
    "print(f\"{'*'*30} Select Features {'*'*30}\")\n",
    "feature_selector = Pipeline([\n",
    "                    (\"correlatedFeatureRemover\", correlatedFeatureRemover(upperBound=0.98)),\n",
    "                    (\"normalizer\", normalizer(lowerBound=-1,upperBound=1)), \n",
    "                    (\"variableFeaturesSelector\", variableFeaturesSelector(numFeatures=100)),\n",
    "                    (\"pca\", pca(criteria=0.98))\n",
    "                    ])\n",
    "data = feature_selector.fit_transform(data)"
   ]
  }
 ],
 "metadata": {
  "kernelspec": {
   "display_name": "Python 3 (ipykernel)",
   "language": "python",
   "name": "python3"
  },
  "language_info": {
   "codemirror_mode": {
    "name": "ipython",
    "version": 3
   },
   "file_extension": ".py",
   "mimetype": "text/x-python",
   "name": "python",
   "nbconvert_exporter": "python",
   "pygments_lexer": "ipython3",
   "version": "3.9.12"
  }
 },
 "nbformat": 4,
 "nbformat_minor": 5
}
