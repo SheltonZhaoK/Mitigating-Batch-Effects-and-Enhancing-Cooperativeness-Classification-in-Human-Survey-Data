{
 "cells": [
  {
   "cell_type": "code",
   "execution_count": 1,
   "metadata": {},
   "outputs": [],
   "source": [
    "import pandas as pd"
   ]
  },
  {
   "cell_type": "code",
   "execution_count": 2,
   "metadata": {},
   "outputs": [],
   "source": [
    "Wave1 = [\"INCA\",   \"INCE\",   \"INCF\",   \"INCD\",   \"INCB\",   \"INCC\",   \"INCG\",   \"W1BABS\", \"W1COLGRD\", \"W1LTHS\", \"W1ADVDEG\", \"W1COMHS\", \"W1SOMCOL\", \"W1OTHLNG\", \"CD5A\",   \"W1EDLEVL\", \"CD2A\",   \"CD4A_A\",   \"CD4A_B\",   \"CD4A_C\",   \"CD4A_D\",   \"CD4A_E\",   \"CD4A_F\",   \"X1\",   \"CD6A\",   \"W1CL1R\", \"W1COUNTY\", \"W1BRNUSA\", \"W1MALE\", \"W1FEMALE\", \"CC3\",   \"CD15\",   \"CD1\",   \"W1STRATA\", \"CD6\",   \"CD8\",   \"CD2\"]\n",
    "Wave2 = [\"W2INCA\", \"W2INCE\", \"W2INCF\", \"W2INCD\", \"W2INCB\", \"W2INCC\", \"W2INCG\", \"W2BABS\", \"W2COLGRD\", \"W2LTHS\", \"W2ADVDEG\", \"W2COMHS\", \"W2SOMCOL\", \"W2OTHLNG\", \"W2CD5A\", \"W2EDLEVL\", \"W2CD2A\", \"W2CD4A_A\", \"W2CD4A_B\", \"W2CD4A_C\", \"W2CD4A_D\", \"W2CD4A_E\", \"W2CD4A_F\", \"W2X1\", \"W2CD6A\", \"W2CL1R\", \"W2COUNTY\", \"W2BRNUSA\", \"W2MALE\", \"W2FEMALE\", \"W2CC3\", \"W2CD15\", \"W2CD1\", \"W2STRATA\", \"W2CD6\", \"W2CD8\", \"W2CD2\"]\n",
    "Wave3 = [\"W3INCA\", \"W3INCE\", \"W3INCF\", \"W3INCD\", \"W3INCB\", \"W3INCC\", \"W3INCG\", \"W3BABS\", \"W3COLGRD\", \"W3LTHS\", \"W3ADVDEG\", \"W3COMHS\", \"W3SOMCOL\", \"W3OTHLNG\", \"W3CD5A\", \"W3EDLEVL\", \"W3CD2A\", \"W3CD4A_A\", \"W3CD4A_B\", \"W3CD4A_C\", \"W3CD4A_D\", \"W3CD4A_E\", \"W3CD4A_F\", \"W3X1\", \"W3CD6A\", \"W3CL1R\", \"W3COUNTY\", \"W3BRNUSA\", \"W3MALE\", \"W3FEMALE\", \"W3CC3\", \"W3CD15\", \"W3CD1\", \"W3STRATA\", \"W3CD6\", \"W3CD8\", \"W3CD2\"]\n",
    "Wave_Agnostic = [\"AGE1829\", \"AGE3039\", \"AGE4049M\", \"AGE5059M\", \"AGE6064M\", \"AGE65PLM\"]\n",
    "\n",
    "Generic_Wave = [\"INCA\",   \"INCE\",   \"INCF\",   \"INCD\",   \"INCB\",   \"INCC\",   \"INCG\",   \"BABS\", \"COLGRD\", \"LTHS\", \"ADVDEG\", \"COMHS\", \"SOMCOL\", \"OTHLNG\", \"CD5A\",   \"EDLEVL\", \"CD2A\",   \"CD4A_A\",   \"CD4A_B\",   \"CD4A_C\",   \"CD4A_D\",   \"CD4A_E\",   \"CD4A_F\",   \"X1\",   \"CD6A\",   \"CL1R\", \"COUNTY\", \"BRNUSA\", \"MALE\", \"FEMALE\", \"CC3\",   \"CD15\",   \"CD1\",   \"STRATA\", \"CD6\",   \"CD8\",   \"CD2\"]\n",
    "Generic_full_wave = Generic_Wave + Wave_Agnostic"
   ]
  },
  {
   "cell_type": "code",
   "execution_count": 4,
   "metadata": {},
   "outputs": [
    {
     "name": "stderr",
     "output_type": "stream",
     "text": [
      "/var/folders/sm/xf3_gccn5351gstdytg6dvsc0000gn/T/ipykernel_4238/661484981.py:2: DtypeWarning: Columns (19,24,25,43,45,46,47,48,49,50,51,52,53,216,217,218,221,223,224,226,227,228,229,239,240,241,242,243,244,292,308,309,494,495,496,497,509) have mixed types. Specify dtype option on import or set low_memory=False.\n",
      "  data = pd.read_csv(\"../data/ICPSR_36371/DS0001/36371-0001-Data.tsv\", sep='\\t')\n"
     ]
    },
    {
     "name": "stdout",
     "output_type": "stream",
     "text": [
      "(3661, 43)\n"
     ]
    }
   ],
   "source": [
    "Wave1 = [\"INCA\",   \"INCE\",   \"INCF\",   \"INCD\",   \"INCB\",   \"INCC\",   \"INCG\",   \"W1BABS\", \"W1COLGRD\", \"W1LTHS\", \"W1ADVDEG\", \"W1COMHS\", \"W1SOMCOL\", \"W1OTHLNG\", \"CD5A\",   \"W1EDLEVL\", \"CD2A\",   \"CD4A_A\",   \"CD4A_B\",   \"CD4A_C\",   \"CD4A_D\",   \"CD4A_E\",   \"CD4A_F\",   \"X1\",   \"CD6A\",   \"W1CL1R\", \"W1COUNTY\", \"W1BRNUSA\", \"W1MALE\", \"W1FEMALE\", \"CC3\",   \"CD15\",   \"CD1\",   \"W1STRATA\", \"CD6\",   \"CD8\",   \"CD2\"]\n",
    "Wave2 = [\"W2INCA\", \"W2INCE\", \"W2INCF\", \"W2INCD\", \"W2INCB\", \"W2INCC\", \"W2INCG\", \"W2BABS\", \"W2COLGRD\", \"W2LTHS\", \"W2ADVDEG\", \"W2COMHS\", \"W2SOMCOL\", \"W2OTHLNG\", \"W2CD5A\", \"W2EDLEVL\", \"W2CD2A\", \"W2CD4A_A\", \"W2CD4A_B\", \"W2CD4A_C\", \"W2CD4A_D\", \"W2CD4A_E\", \"W2CD4A_F\", \"W2X1\", \"W2CD6A\", \"W2CL1R\", \"W2COUNTY\", \"W2BRNUSA\", \"W2MALE\", \"W2FEMALE\", \"W2CC3\", \"W2CD15\", \"W2CD1\", \"W2STRATA\", \"W2CD6\", \"W2CD8\", \"W2CD2\"]\n",
    "Wave3 = [\"W3INCA\", \"W3INCE\", \"W3INCF\", \"W3INCD\", \"W3INCB\", \"W3INCC\", \"W3INCG\", \"W3BABS\", \"W3COLGRD\", \"W3LTHS\", \"W3ADVDEG\", \"W3COMHS\", \"W3SOMCOL\", \"W3OTHLNG\", \"W3CD5A\", \"W3EDLEVL\", \"W3CD2A\", \"W3CD4A_A\", \"W3CD4A_B\", \"W3CD4A_C\", \"W3CD4A_D\", \"W3CD4A_E\", \"W3CD4A_F\", \"W3X1\", \"W3CD6A\", \"W3CL1R\", \"W3COUNTY\", \"W3BRNUSA\", \"W3MALE\", \"W3FEMALE\", \"W3CC3\", \"W3CD15\", \"W3CD1\", \"W3STRATA\", \"W3CD6\", \"W3CD8\", \"W3CD2\"]\n",
    "Wave_Agnostic = [\"AGE1829\", \"AGE3039\", \"AGE4049M\", \"AGE5059M\", \"AGE6064M\", \"AGE65PLM\"]\n",
    "\n",
    "Generic_Wave = [\"INCA\",   \"INCE\",   \"INCF\",   \"INCD\",   \"INCB\",   \"INCC\",   \"INCG\",   \"BABS\", \"COLGRD\", \"LTHS\", \"ADVDEG\", \"COMHS\", \"SOMCOL\", \"OTHLNG\", \"CD5A\",   \"EDLEVL\", \"CD2A\",   \"CD4A_A\",   \"CD4A_B\",   \"CD4A_C\",   \"CD4A_D\",   \"CD4A_E\",   \"CD4A_F\",   \"X1\",   \"CD6A\",   \"CL1R\", \"COUNTY\", \"BRNUSA\", \"MALE\", \"FEMALE\", \"CC3\",   \"CD15\",   \"CD1\",   \"STRATA\", \"CD6\",   \"CD8\",   \"CD2\"]\n",
    "Generic_full_wave = Generic_Wave + Wave_Agnostic\n",
    "# This Code block creates a new data frame where the frist wave seen is taken from each sample\n",
    "data = pd.read_csv(\"../data/ICPSR_36371/DS0001/36371-0001-Data.tsv\", sep='\\t')\n",
    "for col in data:\n",
    "    data[col] = pd.to_numeric(data[col], errors='coerce').fillna(-1).astype(int)\n",
    "\n",
    "sample_wave = [0 for i in range(3661)]\n",
    "\n",
    "for i in range(3661):\n",
    "\n",
    "    # 1, 2, 3\n",
    "    if data[\"PANEL123\"][i] == 1 and data[\"ALLWAV1\"][i] == 1 and data[\"ALLWAV2\"][i] == 1 and data[\"ALLWAV3\"][i] == 1:\n",
    "        sample_wave[i] = 1\n",
    "\n",
    "    # 1 and 3\n",
    "    elif data[\"PANEL103\"][i] == 1 and data[\"ALLWAV1\"][i] == 1 and data[\"ALLWAV3\"][i] == 1:\n",
    "        sample_wave[i] = 1\n",
    "\n",
    "    # 1 and 2\n",
    "    elif data[\"PANEL120\"][i] == 1 and data[\"ALLWAV1\"][i] == 1 and data[\"ALLWAV2\"][i] == 1:\n",
    "        sample_wave[i] = 1\n",
    "\n",
    "    # 2 and 3\n",
    "    elif data[\"PANEL023\"][i] == 1 and data[\"ALLWAV2\"][i] == 1 and data[\"ALLWAV3\"][i] == 1:\n",
    "        sample_wave[i] = 2\n",
    "    \n",
    "    # 1\n",
    "    elif data[\"ALLWAV1\"][i] == 1:\n",
    "        sample_wave[i] = 1\n",
    "\n",
    "    # 2\n",
    "    elif data[\"ALLWAV2\"][i] == 1:\n",
    "        sample_wave[i] = 2\n",
    "    \n",
    "    # 3\n",
    "    elif data[\"ALLWAV3\"][i] == 1:\n",
    "        sample_wave[i] = 3\n",
    "\n",
    "# sample_wave: list of size 3661 which corrsponds to the first wave a sample has been seen\n",
    "data_n = []\n",
    "\n",
    "for i, val in enumerate(sample_wave):\n",
    "    temp = []\n",
    "    if val == 1:\n",
    "\n",
    "        for j, var in enumerate(Wave1 + Wave_Agnostic):\n",
    "            temp.append(data[var][i])\n",
    "\n",
    "        data_n.append(temp)\n",
    "\n",
    "    elif val == 2:\n",
    "\n",
    "        for j, var in enumerate(Wave2 + Wave_Agnostic):\n",
    "            temp.append(data[var][i])\n",
    "        \n",
    "        data_n.append(temp)\n",
    "\n",
    "    elif val == 3:\n",
    "\n",
    "        for j, var in enumerate(Wave3 + Wave_Agnostic):\n",
    "            temp.append(data[var][i])\n",
    "        \n",
    "        data_n.append(temp)\n",
    "    \n",
    "data_new = pd.DataFrame(data=data_n, columns=Generic_full_wave)\n",
    "print(data_new.shape)\n"
   ]
  },
  {
   "cell_type": "code",
   "execution_count": null,
   "metadata": {},
   "outputs": [],
   "source": []
  }
 ],
 "metadata": {
  "kernelspec": {
   "display_name": "Python 3.9.12 ('base')",
   "language": "python",
   "name": "python3"
  },
  "language_info": {
   "codemirror_mode": {
    "name": "ipython",
    "version": 3
   },
   "file_extension": ".py",
   "mimetype": "text/x-python",
   "name": "python",
   "nbconvert_exporter": "python",
   "pygments_lexer": "ipython3",
   "version": "3.8.18"
  },
  "orig_nbformat": 4,
  "vscode": {
   "interpreter": {
    "hash": "05205be7021526e464198033656d7cdf072cee74bdd02446f0a0de217cf733c1"
   }
  }
 },
 "nbformat": 4,
 "nbformat_minor": 2
}
